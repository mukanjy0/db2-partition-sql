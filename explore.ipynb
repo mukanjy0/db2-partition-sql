{
 "cells": [
  {
   "cell_type": "markdown",
   "metadata": {},
   "source": [
    "### Read csv"
   ]
  },
  {
   "cell_type": "code",
   "execution_count": 8,
   "metadata": {},
   "outputs": [
    {
     "name": "stdout",
     "output_type": "stream",
     "text": [
      "(107, 11)\n"
     ]
    },
    {
     "data": {
      "text/html": [
       "<div>\n",
       "<style scoped>\n",
       "    .dataframe tbody tr th:only-of-type {\n",
       "        vertical-align: middle;\n",
       "    }\n",
       "\n",
       "    .dataframe tbody tr th {\n",
       "        vertical-align: top;\n",
       "    }\n",
       "\n",
       "    .dataframe thead th {\n",
       "        text-align: right;\n",
       "    }\n",
       "</style>\n",
       "<table border=\"1\" class=\"dataframe\">\n",
       "  <thead>\n",
       "    <tr style=\"text-align: right;\">\n",
       "      <th></th>\n",
       "      <th>employee_id</th>\n",
       "      <th>first_name</th>\n",
       "      <th>last_name</th>\n",
       "      <th>email</th>\n",
       "      <th>phone_number</th>\n",
       "      <th>hire_date</th>\n",
       "      <th>job_id</th>\n",
       "      <th>salary</th>\n",
       "      <th>commission_pct</th>\n",
       "      <th>manager_id</th>\n",
       "      <th>department_id</th>\n",
       "    </tr>\n",
       "  </thead>\n",
       "  <tbody>\n",
       "    <tr>\n",
       "      <th>0</th>\n",
       "      <td>108</td>\n",
       "      <td>Nancy</td>\n",
       "      <td>Greenberg</td>\n",
       "      <td>NGREENBE</td>\n",
       "      <td>515.124.4569</td>\n",
       "      <td>1994-08-17 00:00:00</td>\n",
       "      <td>FI_MGR</td>\n",
       "      <td>12000.0</td>\n",
       "      <td>NaN</td>\n",
       "      <td>101.0</td>\n",
       "      <td>100</td>\n",
       "    </tr>\n",
       "    <tr>\n",
       "      <th>1</th>\n",
       "      <td>109</td>\n",
       "      <td>Daniel</td>\n",
       "      <td>Faviet</td>\n",
       "      <td>DFAVIET</td>\n",
       "      <td>515.124.4169</td>\n",
       "      <td>1994-08-16 00:00:00</td>\n",
       "      <td>FI_ACCOUNT</td>\n",
       "      <td>9000.0</td>\n",
       "      <td>NaN</td>\n",
       "      <td>108.0</td>\n",
       "      <td>100</td>\n",
       "    </tr>\n",
       "    <tr>\n",
       "      <th>2</th>\n",
       "      <td>110</td>\n",
       "      <td>John</td>\n",
       "      <td>Chen</td>\n",
       "      <td>JCHEN</td>\n",
       "      <td>515.124.4269</td>\n",
       "      <td>1997-09-28 00:00:00</td>\n",
       "      <td>FI_ACCOUNT</td>\n",
       "      <td>8200.0</td>\n",
       "      <td>NaN</td>\n",
       "      <td>108.0</td>\n",
       "      <td>100</td>\n",
       "    </tr>\n",
       "    <tr>\n",
       "      <th>3</th>\n",
       "      <td>111</td>\n",
       "      <td>Ismael</td>\n",
       "      <td>Sciarra</td>\n",
       "      <td>ISCIARRA</td>\n",
       "      <td>515.124.4369</td>\n",
       "      <td>1997-09-30 00:00:00</td>\n",
       "      <td>FI_ACCOUNT</td>\n",
       "      <td>7700.0</td>\n",
       "      <td>NaN</td>\n",
       "      <td>108.0</td>\n",
       "      <td>100</td>\n",
       "    </tr>\n",
       "    <tr>\n",
       "      <th>4</th>\n",
       "      <td>112</td>\n",
       "      <td>Jose Manuel</td>\n",
       "      <td>Urman</td>\n",
       "      <td>JMURMAN</td>\n",
       "      <td>515.124.4469</td>\n",
       "      <td>1998-03-07 00:00:00</td>\n",
       "      <td>FI_ACCOUNT</td>\n",
       "      <td>7800.0</td>\n",
       "      <td>NaN</td>\n",
       "      <td>108.0</td>\n",
       "      <td>100</td>\n",
       "    </tr>\n",
       "  </tbody>\n",
       "</table>\n",
       "</div>"
      ],
      "text/plain": [
       "   employee_id   first_name  last_name     email  phone_number  \\\n",
       "0          108        Nancy  Greenberg  NGREENBE  515.124.4569   \n",
       "1          109       Daniel     Faviet   DFAVIET  515.124.4169   \n",
       "2          110         John       Chen     JCHEN  515.124.4269   \n",
       "3          111       Ismael    Sciarra  ISCIARRA  515.124.4369   \n",
       "4          112  Jose Manuel      Urman   JMURMAN  515.124.4469   \n",
       "\n",
       "             hire_date      job_id   salary  commission_pct  manager_id  \\\n",
       "0  1994-08-17 00:00:00      FI_MGR  12000.0             NaN       101.0   \n",
       "1  1994-08-16 00:00:00  FI_ACCOUNT   9000.0             NaN       108.0   \n",
       "2  1997-09-28 00:00:00  FI_ACCOUNT   8200.0             NaN       108.0   \n",
       "3  1997-09-30 00:00:00  FI_ACCOUNT   7700.0             NaN       108.0   \n",
       "4  1998-03-07 00:00:00  FI_ACCOUNT   7800.0             NaN       108.0   \n",
       "\n",
       "   department_id  \n",
       "0            100  \n",
       "1            100  \n",
       "2            100  \n",
       "3            100  \n",
       "4            100  "
      ]
     },
     "execution_count": 8,
     "metadata": {},
     "output_type": "execute_result"
    }
   ],
   "source": [
    "import pandas as pd\n",
    "\n",
    "data = pd.read_csv('data1/employees.csv', sep=';')\n",
    "data.columns\n",
    "print(data.shape)\n",
    "data.head()"
   ]
  },
  {
   "cell_type": "markdown",
   "metadata": {},
   "source": [
    "### Find length of VARCHAR attributes"
   ]
  },
  {
   "cell_type": "code",
   "execution_count": 9,
   "metadata": {},
   "outputs": [
    {
     "name": "stdout",
     "output_type": "stream",
     "text": [
      "11 11 18 10\n"
     ]
    }
   ],
   "source": [
    "maxLenFirstName = 0\n",
    "maxLenLastName = 0\n",
    "maxLenPhoneNumber = 0\n",
    "maxLenJobId = 0\n",
    "for row in data.values:\n",
    "  maxLenFirstName=max(maxLenFirstName,len(row[1]))\n",
    "  maxLenLastName=max(maxLenLastName,len(row[2]))\n",
    "  maxLenPhoneNumber=max(maxLenPhoneNumber,len(row[4]))\n",
    "  maxLenJobId=max(maxLenJobId,len(row[6]))\n",
    "print(maxLenFirstName, maxLenLastName, maxLenPhoneNumber, maxLenJobId)"
   ]
  },
  {
   "cell_type": "markdown",
   "metadata": {},
   "source": [
    "### Set of values for partition column "
   ]
  },
  {
   "cell_type": "code",
   "execution_count": 10,
   "metadata": {},
   "outputs": [
    {
     "data": {
      "text/plain": [
       "0     100\n",
       "6      50\n",
       "31     80\n",
       "Name: department_id, dtype: int64"
      ]
     },
     "execution_count": 10,
     "metadata": {},
     "output_type": "execute_result"
    }
   ],
   "source": [
    "data['department_id'].drop_duplicates()"
   ]
  },
  {
   "cell_type": "markdown",
   "metadata": {},
   "source": [
    "# Data2"
   ]
  },
  {
   "cell_type": "code",
   "execution_count": 12,
   "metadata": {},
   "outputs": [
    {
     "name": "stdout",
     "output_type": "stream",
     "text": [
      "(331603, 8)\n"
     ]
    },
    {
     "data": {
      "text/html": [
       "<div>\n",
       "<style scoped>\n",
       "    .dataframe tbody tr th:only-of-type {\n",
       "        vertical-align: middle;\n",
       "    }\n",
       "\n",
       "    .dataframe tbody tr th {\n",
       "        vertical-align: top;\n",
       "    }\n",
       "\n",
       "    .dataframe thead th {\n",
       "        text-align: right;\n",
       "    }\n",
       "</style>\n",
       "<table border=\"1\" class=\"dataframe\">\n",
       "  <thead>\n",
       "    <tr style=\"text-align: right;\">\n",
       "      <th></th>\n",
       "      <th>emp_no</th>\n",
       "      <th>birth_date</th>\n",
       "      <th>first_name</th>\n",
       "      <th>last_name</th>\n",
       "      <th>gender</th>\n",
       "      <th>hire_date</th>\n",
       "      <th>dept_no</th>\n",
       "      <th>from_date</th>\n",
       "    </tr>\n",
       "  </thead>\n",
       "  <tbody>\n",
       "    <tr>\n",
       "      <th>0</th>\n",
       "      <td>10001</td>\n",
       "      <td>1953-09-02</td>\n",
       "      <td>Georgi</td>\n",
       "      <td>Facello</td>\n",
       "      <td>M</td>\n",
       "      <td>1986-06-26</td>\n",
       "      <td>d005</td>\n",
       "      <td>1986-06-26</td>\n",
       "    </tr>\n",
       "    <tr>\n",
       "      <th>1</th>\n",
       "      <td>10002</td>\n",
       "      <td>1964-06-02</td>\n",
       "      <td>Bezalel</td>\n",
       "      <td>Simmel</td>\n",
       "      <td>F</td>\n",
       "      <td>1985-11-21</td>\n",
       "      <td>d007</td>\n",
       "      <td>1996-08-03</td>\n",
       "    </tr>\n",
       "    <tr>\n",
       "      <th>2</th>\n",
       "      <td>10003</td>\n",
       "      <td>1959-12-03</td>\n",
       "      <td>Parto</td>\n",
       "      <td>Bamford</td>\n",
       "      <td>M</td>\n",
       "      <td>1986-08-28</td>\n",
       "      <td>d004</td>\n",
       "      <td>1995-12-03</td>\n",
       "    </tr>\n",
       "    <tr>\n",
       "      <th>3</th>\n",
       "      <td>10004</td>\n",
       "      <td>1954-05-01</td>\n",
       "      <td>Chirstian</td>\n",
       "      <td>Koblick</td>\n",
       "      <td>M</td>\n",
       "      <td>1986-12-01</td>\n",
       "      <td>d004</td>\n",
       "      <td>1986-12-01</td>\n",
       "    </tr>\n",
       "    <tr>\n",
       "      <th>4</th>\n",
       "      <td>10005</td>\n",
       "      <td>1955-01-21</td>\n",
       "      <td>Kyoichi</td>\n",
       "      <td>Maliniak</td>\n",
       "      <td>M</td>\n",
       "      <td>1989-09-12</td>\n",
       "      <td>d003</td>\n",
       "      <td>1989-09-12</td>\n",
       "    </tr>\n",
       "  </tbody>\n",
       "</table>\n",
       "</div>"
      ],
      "text/plain": [
       "   emp_no  birth_date first_name last_name gender   hire_date dept_no  \\\n",
       "0   10001  1953-09-02     Georgi   Facello      M  1986-06-26    d005   \n",
       "1   10002  1964-06-02    Bezalel    Simmel      F  1985-11-21    d007   \n",
       "2   10003  1959-12-03      Parto   Bamford      M  1986-08-28    d004   \n",
       "3   10004  1954-05-01  Chirstian   Koblick      M  1986-12-01    d004   \n",
       "4   10005  1955-01-21    Kyoichi  Maliniak      M  1989-09-12    d003   \n",
       "\n",
       "    from_date  \n",
       "0  1986-06-26  \n",
       "1  1996-08-03  \n",
       "2  1995-12-03  \n",
       "3  1986-12-01  \n",
       "4  1989-09-12  "
      ]
     },
     "execution_count": 12,
     "metadata": {},
     "output_type": "execute_result"
    }
   ],
   "source": [
    "data = pd.read_csv('data2/employees.csv', sep=',')\n",
    "data.columns\n",
    "print(data.shape)\n",
    "data.head()"
   ]
  },
  {
   "cell_type": "code",
   "execution_count": 15,
   "metadata": {},
   "outputs": [
    {
     "data": {
      "text/plain": [
       "['d001', 'd002', 'd003', 'd004', 'd005', 'd006', 'd007', 'd008', 'd009']"
      ]
     },
     "execution_count": 15,
     "metadata": {},
     "output_type": "execute_result"
    }
   ],
   "source": [
    "sorted(data['dept_no'].drop_duplicates())"
   ]
  }
 ],
 "metadata": {
  "kernelspec": {
   "display_name": "Python 3",
   "language": "python",
   "name": "python3"
  },
  "language_info": {
   "codemirror_mode": {
    "name": "ipython",
    "version": 3
   },
   "file_extension": ".py",
   "mimetype": "text/x-python",
   "name": "python",
   "nbconvert_exporter": "python",
   "pygments_lexer": "ipython3",
   "version": "3.12.0"
  }
 },
 "nbformat": 4,
 "nbformat_minor": 2
}
